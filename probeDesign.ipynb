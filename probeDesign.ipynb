{
 "cells": [
  {
   "cell_type": "markdown",
   "metadata": {},
   "source": [
    "As of 2019 Illumina will be discontinuing all ordering of TrueSeq Custom Amplicon (TSCA) reagents and materials. As of 3.2018 they have also discontinued access to their probe design algorithm. So, here I will be recreating the TSCA probe design from scratch to obviate any need to include Illumina in the process."
   ]
  },
  {
   "cell_type": "code",
   "execution_count": 52,
   "metadata": {},
   "outputs": [],
   "source": [
    "# make editing code easier\n",
    "%reload_ext autoreload\n",
    "%autoreload 2"
   ]
  },
  {
   "cell_type": "markdown",
   "metadata": {},
   "source": [
    "The primer3 docs are [here](https://libnano.github.io/primer3-py/quickstart.html#installation)."
   ]
  },
  {
   "cell_type": "code",
   "execution_count": 53,
   "metadata": {},
   "outputs": [],
   "source": [
    "import primer3\n",
    "from Bio import Seq\n",
    "import pandas as pd"
   ]
  },
  {
   "cell_type": "markdown",
   "metadata": {},
   "source": [
    "primer3 can calculate Tm if passed a particular probe sequence."
   ]
  },
  {
   "cell_type": "code",
   "execution_count": 54,
   "metadata": {},
   "outputs": [
    {
     "data": {
      "text/plain": [
       "49.16808228911765"
      ]
     },
     "execution_count": 54,
     "metadata": {},
     "output_type": "execute_result"
    }
   ],
   "source": [
    "primer3.calcTm('GTAAAACGACGGCCAGT')"
   ]
  },
  {
   "cell_type": "markdown",
   "metadata": {},
   "source": [
    "It can also calculate the heterodimer thermodynamics of two sequences."
   ]
  },
  {
   "cell_type": "code",
   "execution_count": 55,
   "metadata": {},
   "outputs": [
    {
     "data": {
      "text/plain": [
       "\"\\nprimer3.calcHeterodimer('CAACGTGGAATGTGCCCTGGTAGCAGAA', 'TGTTATGGTCCAGGAATGTGACATGGGTTG')\\nx=primer3.bindings.calcHomodimer('GTAAAACGACGGCCAGT')\\ny=primer3.bindings.calcHairpin('GTAAAACGACGGCCAGT')\\nz=primer3.bindings.calcEndStability('GTAAAACGACGGCCAGT','CTGTAACTCTGTGAAAATCAGTGTTTAAAATGTGTGACAAAAAGCAATAAAATCATGTTGATCGGCATACAAGAGATCAACGTGGAATGTGCCCTGGTAGCAGAAACAGGGTGGAGGAAAGTTGGAATTCACAAACATGTTTATAGATCTCTGGTTTTCTAAGTCCAGTTAGAAGATATTCAACCCATGTCACATTCCTGGACCATAACATTGCTCTGATGTTGATCTAGAAGCTGCCATCTATTGTACAGTTGAATCCGTCTATGGTAACTAGGCTAATCAATCAAGGAGGAAAATCAAGACAGGGAGCTTGTGAGAGTGGATGTGGTTTCTGGTCACAAGGCTTCCAGG')\\n\""
      ]
     },
     "execution_count": 55,
     "metadata": {},
     "output_type": "execute_result"
    }
   ],
   "source": [
    "'''\n",
    "primer3.calcHeterodimer('CAACGTGGAATGTGCCCTGGTAGCAGAA', 'TGTTATGGTCCAGGAATGTGACATGGGTTG')\n",
    "x=primer3.bindings.calcHomodimer('GTAAAACGACGGCCAGT')\n",
    "y=primer3.bindings.calcHairpin('GTAAAACGACGGCCAGT')\n",
    "z=primer3.bindings.calcEndStability('GTAAAACGACGGCCAGT','CTGTAACTCTGTGAAAATCAGTGTTTAAAATGTGTGACAAAAAGCAATAAAATCATGTTGATCGGCATACAAGAGATCAACGTGGAATGTGCCCTGGTAGCAGAAACAGGGTGGAGGAAAGTTGGAATTCACAAACATGTTTATAGATCTCTGGTTTTCTAAGTCCAGTTAGAAGATATTCAACCCATGTCACATTCCTGGACCATAACATTGCTCTGATGTTGATCTAGAAGCTGCCATCTATTGTACAGTTGAATCCGTCTATGGTAACTAGGCTAATCAATCAAGGAGGAAAATCAAGACAGGGAGCTTGTGAGAGTGGATGTGGTTTCTGGTCACAAGGCTTCCAGG')\n",
    "'''"
   ]
  },
  {
   "cell_type": "markdown",
   "metadata": {},
   "source": [
    "If primer3 is passed a sequence, it will attempt to return four  internal, left, and right primers."
   ]
  },
  {
   "cell_type": "code",
   "execution_count": 56,
   "metadata": {},
   "outputs": [
    {
     "data": {
      "text/plain": [
       "\"\\nx='GCTTGCATGCCTGCAGGTCGACTCTAGAGGATCCCCCTACATTTTAGCATCAGTGAGTACAGCATGCTTACTGGAAGAGAGGGTCATGCAACAGATTAGGAGGTAAGTTTGCAAAGGCAGGCTAAGGAGGAGACGCACTGAATGCCATGGTAAGAACTCTGGACATAAAAATATTGGAAGTTGTTGAGCAAGTNAAAAAAATGTTTGGAAGTGTTACTTTAGCAATGGCAAGAATGATAGTATGGAATAGATTGGCAGAATGAAGGCAAAATGATTAGACATATTGCATTAAGGTAAAAAATGATAACTGAAGAATTATGTGCCACACTTATTAATAAGAAAGAATATGTGAACCTTGCAGATGTTTCCCTCTAGTAG'\\nprimers = primer3.bindings.designPrimers(\\n    {\\n        'SEQUENCE_ID': 'MH1000',\\n        'SEQUENCE_TEMPLATE': x,\\n        'SEQUENCE_INCLUDED_REGION': [36,342]\\n    },\\n    {\\n        'PRIMER_OPT_SIZE': 27, \\n        'PRIMER_PICK_INTERNAL_OLIGO': 1,\\n        'PRIMER_INTERNAL_MAX_SELF_END': 8,\\n        'PRIMER_MIN_SIZE': 22, \\n        'PRIMER_MAX_SIZE': 30, \\n        'PRIMER_OPT_TM': 69.9,\\n        'PRIMER_MIN_TM': 66.7,\\n        'PRIMER_MAX_TM': 73.2,\\n        'PRIMER_MIN_GC': 40.4,\\n        'PRIMER_MAX_GC': 59.6,\\n        'PRIMER_MAX_POLY_X': 100,\\n        'PRIMER_INTERNAL_MAX_POLY_X': 100,\\n        'PRIMER_SALT_MONOVALENT': 50.0,\\n        'PRIMER_DNA_CONC': 50.0,\\n        'PRIMER_MAX_NS_ACCEPTED': 0,\\n        'PRIMER_MAX_SELF_ANY': 12, \\n        'PRIMER_MAX_SELF_END': 8,\\n        'PRIMER_PAIR_MAX_COMPL_ANY': 12, \\n        'PRIMER_PAIR_MAX_COMPL_END': 8,\\n        'PRIMER_NUM_RETURN': 20\\n    })\\n\""
      ]
     },
     "execution_count": 56,
     "metadata": {},
     "output_type": "execute_result"
    }
   ],
   "source": [
    "'''\n",
    "x='GCTTGCATGCCTGCAGGTCGACTCTAGAGGATCCCCCTACATTTTAGCATCAGTGAGTACAGCATGCTTACTGGAAGAGAGGGTCATGCAACAGATTAGGAGGTAAGTTTGCAAAGGCAGGCTAAGGAGGAGACGCACTGAATGCCATGGTAAGAACTCTGGACATAAAAATATTGGAAGTTGTTGAGCAAGTNAAAAAAATGTTTGGAAGTGTTACTTTAGCAATGGCAAGAATGATAGTATGGAATAGATTGGCAGAATGAAGGCAAAATGATTAGACATATTGCATTAAGGTAAAAAATGATAACTGAAGAATTATGTGCCACACTTATTAATAAGAAAGAATATGTGAACCTTGCAGATGTTTCCCTCTAGTAG'\n",
    "primers = primer3.bindings.designPrimers(\n",
    "    {\n",
    "        'SEQUENCE_ID': 'MH1000',\n",
    "        'SEQUENCE_TEMPLATE': x,\n",
    "        'SEQUENCE_INCLUDED_REGION': [36,342]\n",
    "    },\n",
    "    {\n",
    "        'PRIMER_OPT_SIZE': 27, \n",
    "        'PRIMER_PICK_INTERNAL_OLIGO': 1,\n",
    "        'PRIMER_INTERNAL_MAX_SELF_END': 8,\n",
    "        'PRIMER_MIN_SIZE': 22, \n",
    "        'PRIMER_MAX_SIZE': 30, \n",
    "        'PRIMER_OPT_TM': 69.9,\n",
    "        'PRIMER_MIN_TM': 66.7,\n",
    "        'PRIMER_MAX_TM': 73.2,\n",
    "        'PRIMER_MIN_GC': 40.4,\n",
    "        'PRIMER_MAX_GC': 59.6,\n",
    "        'PRIMER_MAX_POLY_X': 100,\n",
    "        'PRIMER_INTERNAL_MAX_POLY_X': 100,\n",
    "        'PRIMER_SALT_MONOVALENT': 50.0,\n",
    "        'PRIMER_DNA_CONC': 50.0,\n",
    "        'PRIMER_MAX_NS_ACCEPTED': 0,\n",
    "        'PRIMER_MAX_SELF_ANY': 12, \n",
    "        'PRIMER_MAX_SELF_END': 8,\n",
    "        'PRIMER_PAIR_MAX_COMPL_ANY': 12, \n",
    "        'PRIMER_PAIR_MAX_COMPL_END': 8,\n",
    "        'PRIMER_NUM_RETURN': 20\n",
    "    })\n",
    "'''"
   ]
  },
  {
   "cell_type": "markdown",
   "metadata": {},
   "source": [
    "The probes that I have designed for the original hematopoietic FERMI panel are [here](https://docs.google.com/spreadsheets/d/1VtoJPKQnmHPC3fwBRYzlXbNGHJrcByrO7C9IgmI79WY/edit#gid=0).\n",
    "\n",
    "The API for the primer3 is [here](https://libnano.github.io/primer3-py/quickstart.html).\n",
    "\n",
    "I am designing the probe designer to attempt to build probes that fall within the GC content and melting temperatures of the probes designed for the hematopoietic panel, the information for which is below.\n",
    "\n",
    "Up GC: 45.3-59.6  \n",
    "Up Tm: 67.7-72.9  \n",
    "Down GC: 40.4-59.2  \n",
    "Down Tm: 66.7-73.2  \n",
    "\n",
    "The scheme for the two probe designs is as follows:  \n",
    "Up  \n",
    "[Binding] [UMI] [Targetarm]  \n",
    "Down  \n",
    "[Targetarm] [UMI] [Binding]  \n",
    "\n",
    "UMI: NNNNNN  \n",
    "Up Binding: CAACGATCGTCGAAATTCGC  \n",
    "Down Binding: AGATCGGAAGAGCGTCGTGTA  \n",
    "Targetarm len: 22-30bp\n"
   ]
  },
  {
   "cell_type": "markdown",
   "metadata": {},
   "source": [
    "All of the necessary sites can be entered below and used to design probes."
   ]
  },
  {
   "cell_type": "markdown",
   "metadata": {},
   "source": [
    "I now realize that the previous way of going about this will be cumbersome at best, now I am going to manually design a probe designer, and only use primer3 for the calculations about Tm, dimerization, etc, while actually choosing the oligos myself.  \n",
    "\n",
    "For the dimerization calculations, results are given according to the formula: ΔG = ΔH – TΔS, and a ΔG >-9kcal is generally acceptable for heterodimerization and >-5kcal is generally accepted for homodimerization.\n",
    "\n",
    "I think the best strategy will be to create oligos that are 75bp away on either side of a mutation and then step one base at a time further away and maybe one base at a time closer as well, until I have a decently sized list of oligos that will be sequentially eliminated based on a number of desireable parameters.  \n",
    "\n",
    "Then from this list I will eliminate all homodimerization below -5kcal.  \n",
    "\n",
    "Then eliminate all hairpins below >-2kcal.  \n",
    "\n",
    "Then eliminate all probes with GC content lower than 40.4 and higher than 59.6.  \n",
    "\n",
    "Then eliminate all probes with poor GC clamps.  \n",
    "\n",
    "Then eliminate all probes with melting temps lower and higher than 66.7 and 73.2.  \n",
    "\n",
    "Heterodimerization and end stability should both then be optimized, the less negative the endstability ΔG and less negative the heterodimerization tm the better the primers. The best way I can think of simultaneously optimizing these paramters is to associate all remaining oligos with a value for heterdimerization and one for end stability. Then rank the two lists, and the first group that is observed once in each list will be the top oligo group.\n",
    "\n"
   ]
  },
  {
   "cell_type": "code",
   "execution_count": 57,
   "metadata": {},
   "outputs": [],
   "source": [
    "import primer3\n",
    "from Bio import Seq\n",
    "ref = '../../../ReferenceGenomes/hg19.fa'\n",
    "regions = {'ref':ref, 'seqs':[\n",
    "    {'name':'TIIIN', 'chrom':'chr15', 'loc':92527082},\n",
    "    {'name':'HRAS', 'chrom':'chr1', 'loc':534385}\n",
    "]}"
   ]
  },
  {
   "cell_type": "markdown",
   "metadata": {},
   "source": [
    "This next part of the code will then get a sequence that surrounds the regions of interest."
   ]
  },
  {
   "cell_type": "code",
   "execution_count": 58,
   "metadata": {},
   "outputs": [],
   "source": [
    "from probeDesign import getSeq\n",
    "seq = getSeq(regions)"
   ]
  },
  {
   "cell_type": "markdown",
   "metadata": {},
   "source": [
    "Now the whole sequence will be used to design all possible primers that are between 22 and 30 bp long. Thermodynamics will be associated with each primer in a DataFrame, that will then be sorted as needed."
   ]
  },
  {
   "cell_type": "code",
   "execution_count": 59,
   "metadata": {},
   "outputs": [],
   "source": [
    "from probeDesign import possibleOligos\n",
    "df = possibleOligos(seq)"
   ]
  },
  {
   "cell_type": "markdown",
   "metadata": {},
   "source": [
    "Now, upstream oligos will be paired with the downstream oligos to which they have the least chance of forming a heteroduplex. I will have to test how many of these pairs need to be generated for a full panel to be created because heteroduplex capacity must be considered across all probes within a panel. For the moment I will find 1 pair per possible oligo.  \n",
    "\n",
    "The first thing to do is eliminate the bottom 75% of oligos by 3' end stability. This will only retain those oligos with the highest ΔG values which will therefore be at a reduced risk of mispriming.  \n",
    "\n",
    "I'm sure there is a better way of optimizing the 3' end stability, but this may be a rough way of building good probes, and for the moment it is all I can really think of.  \n",
    "\n",
    "Sample Stabilities will be binned into up and down probes to ensure that one of the groups is not preferentially selected.  "
   ]
  },
  {
   "cell_type": "code",
   "execution_count": 64,
   "metadata": {},
   "outputs": [],
   "source": [
    "from probeDesign import sampleStability\n",
    "df = sampleStability(df, seq)"
   ]
  },
  {
   "cell_type": "markdown",
   "metadata": {},
   "source": [
    "After all necessary filtering, comparisons will be made between all possible up and down pairs to find a number of good probe pairs that can then be finalized. Pairs will be created by least possible heterodimerization potential."
   ]
  },
  {
   "cell_type": "code",
   "execution_count": 82,
   "metadata": {},
   "outputs": [],
   "source": [
    "from probeDesign import findPairs\n",
    "newdf = findPairs(df, seq)"
   ]
  },
  {
   "cell_type": "markdown",
   "metadata": {},
   "source": [
    "The final step is to start building a final probeset, ensuring that probes for each of the different sites do not heterodimerize with each other."
   ]
  },
  {
   "cell_type": "code",
   "execution_count": 134,
   "metadata": {},
   "outputs": [
    {
     "name": "stdout",
     "output_type": "stream",
     "text": [
      "(('CAGGGTGGAGGAAAGTTGGAATTCACAAA', 'GTTGAATCCGTCTATGGTAACTAGGCTAA'), ('TTACATTGGAACTGTGCGTTTGCGGAAG', 'GAGAGTGACTGTTTTCCTCTCCA'))\n",
      "-2108.1109912458414\n",
      "-2328.9694934343825\n",
      "-3044.197473743756\n",
      "-4049.6594934374807\n",
      "-2140.2629956291203\n",
      "-2311.500991245848\n"
     ]
    }
   ],
   "source": [
    "from probeDesign import finalizeProbeSet\n",
    "finalizeProbeSet(newdf, seq)"
   ]
  },
  {
   "cell_type": "markdown",
   "metadata": {},
   "source": [
    "Probably also want to ensure the probes do not bind to off-target sites. It is interesting to note that Illumina really does not appear to take sequence specifity into consideration. For instance, when designing a probe for KRAS on chromosome 12, I was given the following oligo.  \n",
    "`GACTGTGTTTCTCCCTTCTCAGGATTC`  \n",
    "This oligo is 27 bp long and perfectly matches its target sequencing on chromosome 12. However, 20bp of it also perfectly match a region on chromosome 3 and almost perfectly match a region on chromosmome 15. So, perhaps Illumina's algorithm does not really consider off-target binding and simply chooses compatible oligos.  \n",
    "Maybe this is helpful: http://genomewiki.ucsc.edu/index.php/Blat_Scripts"
   ]
  },
  {
   "cell_type": "code",
   "execution_count": 131,
   "metadata": {},
   "outputs": [
    {
     "data": {
      "text/plain": [
       "-2108.1109912458414"
      ]
     },
     "execution_count": 131,
     "metadata": {},
     "output_type": "execute_result"
    }
   ],
   "source": [
    "primer3.bindings.calcHeterodimer('ACAGGGTGGAGGAAAGTTGGAATTCACAAA','GTTGAATCCGTCTATGGTAACTAGGCTAA').dg"
   ]
  },
  {
   "cell_type": "code",
   "execution_count": null,
   "metadata": {},
   "outputs": [],
   "source": []
  }
 ],
 "metadata": {
  "kernelspec": {
   "display_name": "Python 3",
   "language": "python",
   "name": "python3"
  },
  "language_info": {
   "codemirror_mode": {
    "name": "ipython",
    "version": 3
   },
   "file_extension": ".py",
   "mimetype": "text/x-python",
   "name": "python",
   "nbconvert_exporter": "python",
   "pygments_lexer": "ipython3",
   "version": "3.5.5"
  }
 },
 "nbformat": 4,
 "nbformat_minor": 2
}
