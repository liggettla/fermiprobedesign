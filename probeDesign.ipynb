{
 "cells": [
  {
   "cell_type": "markdown",
   "metadata": {},
   "source": [
    "As of 2019 Illumina will be discontinuing all ordering of TrueSeq Custom Amplicon (TSCA) reagents and materials. As of 3.2018 they have also discontinued access to their probe design algorithm. So, here I will be recreating the TSCA probe design from scratch to obviate any need to include Illumina in the process."
   ]
  },
  {
   "cell_type": "markdown",
   "metadata": {},
   "source": [
    "The primer3 docs are [here](https://libnano.github.io/primer3-py/quickstart.html#installation)."
   ]
  },
  {
   "cell_type": "code",
   "execution_count": 5,
   "metadata": {},
   "outputs": [],
   "source": [
    "import primer3\n",
    "from Bio import Seq"
   ]
  },
  {
   "cell_type": "markdown",
   "metadata": {},
   "source": [
    "primer3 can calculate Tm if passed a particular probe sequence."
   ]
  },
  {
   "cell_type": "code",
   "execution_count": 6,
   "metadata": {},
   "outputs": [
    {
     "data": {
      "text/plain": [
       "49.16808228911765"
      ]
     },
     "execution_count": 6,
     "metadata": {},
     "output_type": "execute_result"
    }
   ],
   "source": [
    "primer3.calcTm('GTAAAACGACGGCCAGT')"
   ]
  },
  {
   "cell_type": "markdown",
   "metadata": {},
   "source": [
    "If primer3 is passed a sequence, it will attempt to return four  internal, left, and right primers."
   ]
  },
  {
   "cell_type": "code",
   "execution_count": 19,
   "metadata": {},
   "outputs": [],
   "source": [
    "x='GCTTGCATGCCTGCAGGTCGACTCTAGAGGATCCCCCTACATTTTAGCATCAGTGAGTACAGCATGCTTACTGGAAGAGAGGGTCATGCAACAGATTAGGAGGTAAGTTTGCAAAGGCAGGCTAAGGAGGAGACGCACTGAATGCCATGGTAAGAACTCTGGACATAAAAATATTGGAAGTTGTTGAGCAAGTNAAAAAAATGTTTGGAAGTGTTACTTTAGCAATGGCAAGAATGATAGTATGGAATAGATTGGCAGAATGAAGGCAAAATGATTAGACATATTGCATTAAGGTAAAAAATGATAACTGAAGAATTATGTGCCACACTTATTAATAAGAAAGAATATGTGAACCTTGCAGATGTTTCCCTCTAGTAG'\n",
    "primers = primer3.bindings.designPrimers(\n",
    "    {\n",
    "        'SEQUENCE_ID': 'MH1000',\n",
    "        'SEQUENCE_TEMPLATE': x,\n",
    "        'SEQUENCE_INCLUDED_REGION': [36,342]\n",
    "    },\n",
    "    {\n",
    "        'PRIMER_OPT_SIZE': 20,\n",
    "        'PRIMER_PICK_INTERNAL_OLIGO': 1,\n",
    "        'PRIMER_INTERNAL_MAX_SELF_END': 8,\n",
    "        'PRIMER_MIN_SIZE': 18,\n",
    "        'PRIMER_MAX_SIZE': 25,\n",
    "        'PRIMER_OPT_TM': 60.0,\n",
    "        'PRIMER_MIN_TM': 57.0,\n",
    "        'PRIMER_MAX_TM': 63.0,\n",
    "        'PRIMER_MIN_GC': 20.0,\n",
    "        'PRIMER_MAX_GC': 80.0,\n",
    "        'PRIMER_MAX_POLY_X': 100,\n",
    "        'PRIMER_INTERNAL_MAX_POLY_X': 100,\n",
    "        'PRIMER_SALT_MONOVALENT': 50.0,\n",
    "        'PRIMER_DNA_CONC': 50.0,\n",
    "        'PRIMER_MAX_NS_ACCEPTED': 0,\n",
    "        'PRIMER_MAX_SELF_ANY': 12,\n",
    "        'PRIMER_MAX_SELF_END': 8,\n",
    "        'PRIMER_PAIR_MAX_COMPL_ANY': 12,\n",
    "        'PRIMER_PAIR_MAX_COMPL_END': 8,\n",
    "        'PRIMER_PRODUCT_SIZE_RANGE': [[75,100],[100,125],[125,150],\n",
    "                                      [150,175],[175,200],[200,225]],\n",
    "    })"
   ]
  },
  {
   "cell_type": "markdown",
   "metadata": {},
   "source": [
    "The probes that I have designed for the original hematopoietic FERMI panel are [here](https://docs.google.com/spreadsheets/d/1VtoJPKQnmHPC3fwBRYzlXbNGHJrcByrO7C9IgmI79WY/edit#gid=0).\n",
    "\n",
    "I am designing the probe designer to attempt to build probes that fall within the GC content and melting temperatures of the probes designed for the hematopoietic panel, the information for which is below.\n",
    "\n",
    "Up GC: 45.3-59.6  \n",
    "Up Tm: 67.7-72.9  \n",
    "Down GC: 40.4-59.2  \n",
    "Down Tm: 66.7-73.2  \n",
    "\n",
    "The scheme for the two probe designs is as follows:  \n",
    "Up  \n",
    "[Binding] [UMI] [Targetarm]  \n",
    "Down  \n",
    "[Targetarm] [UMI] [Binding]  \n",
    "\n",
    "UMI: NNNNNN  \n",
    "Up Binding: CAACGATCGTCGAAATTCGC  \n",
    "Down Binding: AGATCGGAAGAGCGTCGTGTA  \n",
    "Targetarm len: 22-30bp\n"
   ]
  },
  {
   "cell_type": "code",
   "execution_count": 1,
   "metadata": {},
   "outputs": [],
   "source": [
    "from probeDesign import getSeq\n",
    "ref = '/media/alex/Extra/Dropbox/Code/ReferenceGenomes/hg19.fa'\n",
    "chrom = 'chr15'\n",
    "low = 92526900\n",
    "high = 92527250\n",
    "ds = {'ref':ref, 'chrom':chrom, 'low':low, 'high':high}\n",
    "seq = getSeq(ds)"
   ]
  },
  {
   "cell_type": "code",
   "execution_count": 3,
   "metadata": {},
   "outputs": [],
   "source": [
    "from probeDesign import getTargets\n",
    "#seq = 'CTGTAACTCTGTGAAAATCAGTGTTTAAAATGTGTGACAAAAAGCAATAAAATCATGTTGATCGGCATACAAGAGATCAACGTGGAATGTGCCCTGGTAGCAGAAACAGGGTGGAGGAAAGTTGGAATTCACAAACATGTTTATAGATCTCTGGTTTTCTAAGTCCAGTTAGAAGATATTCAACCCATGTCACATTCCTGGACCATAACATTGCTCTGATGTTGATCTAGAAGCTGCCATCTATTGTACAGTTGAATCCGTCTATGGTAACTAGGCTAATCAATCAAGGAGGAAAATCAAGACAGGGAGCTTGTGAGAGTGGATGTGGTTTCTGGTCACAAGGCTTCCAGG'\n",
    "primers = getTargets('TIIIn', seq)"
   ]
  },
  {
   "cell_type": "code",
   "execution_count": null,
   "metadata": {},
   "outputs": [],
   "source": []
  }
 ],
 "metadata": {
  "kernelspec": {
   "display_name": "Python 3",
   "language": "python",
   "name": "python3"
  },
  "language_info": {
   "codemirror_mode": {
    "name": "ipython",
    "version": 3
   },
   "file_extension": ".py",
   "mimetype": "text/x-python",
   "name": "python",
   "nbconvert_exporter": "python",
   "pygments_lexer": "ipython3",
   "version": "3.5.5"
  }
 },
 "nbformat": 4,
 "nbformat_minor": 2
}
